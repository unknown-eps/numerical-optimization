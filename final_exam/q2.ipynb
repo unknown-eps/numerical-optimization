{
 "cells": [
  {
   "cell_type": "code",
   "execution_count": 6,
   "id": "fd6d4d51",
   "metadata": {},
   "outputs": [],
   "source": [
    "import numpy as np\n",
    "import matplotlib.pyplot as plt"
   ]
  },
  {
   "cell_type": "code",
   "execution_count": 7,
   "id": "1044e04c",
   "metadata": {},
   "outputs": [],
   "source": [
    "np.random.seed(0)"
   ]
  },
  {
   "cell_type": "code",
   "execution_count": 8,
   "id": "38038004",
   "metadata": {},
   "outputs": [],
   "source": [
    "def rosenbrock(x):\n",
    "    '''\n",
    "    x is a numpy array of shape (2,)\n",
    "    '''\n",
    "    return (1-x[0])**2 + 100*(x[1] - x[0]**2)**2"
   ]
  },
  {
   "cell_type": "code",
   "execution_count": 9,
   "id": "3a8d2724",
   "metadata": {},
   "outputs": [],
   "source": [
    "np.random.seed(42)\n",
    "n_iter = 5000\n",
    "sigma = 0.5\n",
    "\n",
    "# Initialization\n",
    "x_current = np.array([0.0,0.0])\n",
    "f_current = rosenbrock(x_current)\n",
    "path = np.zeros((n_iter + 1, 2))\n",
    "path[0] = x_current"
   ]
  }
 ],
 "metadata": {
  "kernelspec": {
   "display_name": "ml",
   "language": "python",
   "name": "python3"
  },
  "language_info": {
   "codemirror_mode": {
    "name": "ipython",
    "version": 3
   },
   "file_extension": ".py",
   "mimetype": "text/x-python",
   "name": "python",
   "nbconvert_exporter": "python",
   "pygments_lexer": "ipython3",
   "version": "3.12.2"
  }
 },
 "nbformat": 4,
 "nbformat_minor": 5
}
