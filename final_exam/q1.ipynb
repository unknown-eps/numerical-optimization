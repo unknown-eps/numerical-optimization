{
 "cells": [
  {
   "cell_type": "markdown",
   "id": "371a77a7",
   "metadata": {},
   "source": [
    "# Problem Statement\n",
    "\n",
    "## Q1. Linear Programming\n",
    "\n",
    "Your start-up will face the cash requirements shown in Table 1 in the next eight quarters (positive entries represent cash needs while negative entries represent cash surpluses). The company has three borrowing possibilities.\n",
    "\n",
    "**Table 1: Cash Flow (in Crores of INR)**\n",
    "\n",
    "| Q1  | Q2  | Q3  | Q4   | Q5   | Q6  | Q7  | Q8   |\n",
    "| --- | --- | --- | ---- | ---- | --- | --- | ---- |\n",
    "| 100 | 500 | 100 | -600 | -500 | 200 | 600 | -900 |\n",
    "\n",
    "**Borrowing Possibilities:**\n",
    "\n",
    "*   A 2-year loan available at the beginning of Q1, with a 1% interest per quarter.\n",
    "*   The other two borrowing opportunities are available at the beginning of every quarter:\n",
    "    *   A 6-month loan with a 1.8% interest per quarter.\n",
    "    *   A quarterly loan with a 2.5% interest for the quarter.\n",
    "*   Any surplus can be invested at a 0.5% interest per quarter.\n",
    "\n",
    "**Questions:**\n",
    "\n",
    "a) Formulate a LP that maximizes the wealth of the company at the beginning of Q9.\n",
    "\n",
    "b) Use built-in LP solvers to get a solution.\n",
    "\n",
    "c) What is a good initial basic feasible point?\n",
    "\n",
    "d) Use the revised simplex method and see if your solution matches the one from built-in solver. Explain."
   ]
  },
  {
   "cell_type": "markdown",
   "id": "6cde6b13",
   "metadata": {},
   "source": [
    "# My approach\n",
    "## Assumptions\n",
    "- <span style=\"color:blue\">We have to pay the costs of the quarter before our investment for the quarter matured.</span>\n",
    "- <span style=\"color:blue\">We pay simple interest of the corresponding rate to the banks each month until full repayment</span>\n",
    "- <span style=\"color:blue\">We cannot take a 6 month loan at the beginning of the 8th quarter as this will be repayed after the ninth quarter</span>\n",
    "- <span style=\"color:blue\">The interest on out investments is available before we have to repay our loans</span>\n",
    "- <span style=\"color:blue\">Fresh loans can be raised only after the interest payment of existing loans.</span>"
   ]
  },
  {
   "cell_type": "markdown",
   "id": "84e2ac89",
   "metadata": {},
   "source": [
    "## Variables\n",
    "\n",
    "- $x_t$: Total money at the start of quarter $t$ **after** receiving loans  \n",
    "- $L$: Two-year loan available at the beginning of the first quarter  \n",
    "- $j_t$: 6-month loan available at the beginning of each quarter $t$  \n",
    "- $k_t$: 4-month loan available at the beginning of each quarter $t$  \n",
    "- $a_t$: Total money at the start of quarter $t$ **before** receiving loans, after all costs and loan repayments from the previous quarter  \n",
    "- $i_t$: Investment made in quarter $t$  \n",
    "- $c_t$: Net cash flow in quarter $t$  \n",
    "- $r$: Final result (e.g., total return) to be maximized\n"
   ]
  },
  {
   "cell_type": "markdown",
   "id": "f2ac7c43",
   "metadata": {},
   "source": [
    "## Constraints\n",
    "\n",
    "### Non-negativity constraints\n",
    "All variables must be non-negative:\n",
    "\n",
    "- $a_t \\geq 0$, $x_t \\geq 0$, $j_t \\geq 0$, $k_t \\geq 0$, $i_t \\geq 0$\n",
    "\n",
    "All $c_t$ values must match the given values\n",
    "\n",
    "### Initial condition\n",
    "- $a_1 = 0$\n",
    "\n",
    "### Quarter 1 constraints\n",
    "- $x_1 = L + j_1 + k_1$\n",
    "- $i_1 \\leq x_1$\n",
    "- $c_1 \\leq x_1 - i_1$\n",
    "- $a_2 = x_1 - c_1 + 1.05 \\cdot i_1 - i_1 - 0.01 \\cdot L - 0.018 \\cdot j_1 - 1.025 \\cdot k_1$\n",
    "\n",
    "*(Note: This expression assumes interest is applied before repayment. If loans must be repaid before interest is applied, this expression will change and require an additional non-negativity constraint.)*\n",
    "\n",
    "### General constraints (for $t = 2$ to $8$)\n",
    "- $x_t = a_t + j_t + k_t$\n",
    "- $i_t \\leq x_t$\n",
    "- $c_t + 1.018 \\cdot j_{t-1} \\leq x_t - i_t$  \n",
    "  *(Repayment of 6-month loan $j_{t-1}$ is included with $c_t$ as it occurs mid-quarter)*  \n",
    "- $a_{t+1} = x_t + 1.005 \\cdot i_t - i_t - c_t - 1.018 \\cdot j_{t-1} - 0.01 \\cdot L - 0.018 \\cdot j_t - 1.025 \\cdot k_t$\n",
    "\n",
    "### Final quarter constraint\n",
    "- $j_8 = 0$  \n",
    "  *(No new 6-month loan in the final quarter)*\n",
    "\n",
    "### Objective\n",
    "- $r = a_9 - L$  \n",
    "  *(Maximize $r$, the net return after repaying the two-year loan)*\n"
   ]
  },
  {
   "cell_type": "code",
   "execution_count": null,
   "id": "827529c8",
   "metadata": {},
   "outputs": [],
   "source": []
  }
 ],
 "metadata": {
  "kernelspec": {
   "display_name": "ml",
   "language": "python",
   "name": "python3"
  },
  "language_info": {
   "codemirror_mode": {
    "name": "ipython",
    "version": 3
   },
   "file_extension": ".py",
   "mimetype": "text/x-python",
   "name": "python",
   "nbconvert_exporter": "python",
   "pygments_lexer": "ipython3",
   "version": "3.12.2"
  }
 },
 "nbformat": 4,
 "nbformat_minor": 5
}
