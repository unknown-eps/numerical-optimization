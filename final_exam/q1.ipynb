{
 "cells": [
  {
   "cell_type": "markdown",
   "id": "371a77a7",
   "metadata": {},
   "source": [
    "# Problem Statement\n",
    "\n",
    "## Q1. Linear Programming\n",
    "\n",
    "Your start-up will face the cash requirements shown in Table 1 in the next eight quarters (positive entries represent cash needs while negative entries represent cash surpluses). The company has three borrowing possibilities.\n",
    "\n",
    "**Table 1: Cash Flow (in Crores of INR)**\n",
    "\n",
    "| Q1  | Q2  | Q3  | Q4   | Q5   | Q6  | Q7  | Q8   |\n",
    "| --- | --- | --- | ---- | ---- | --- | --- | ---- |\n",
    "| 100 | 500 | 100 | -600 | -500 | 200 | 600 | -900 |\n",
    "\n",
    "**Borrowing Possibilities:**\n",
    "\n",
    "*   A 2-year loan available at the beginning of Q1, with a 1% interest per quarter.\n",
    "*   The other two borrowing opportunities are available at the beginning of every quarter:\n",
    "    *   A 6-month loan with a 1.8% interest per quarter.\n",
    "    *   A quarterly loan with a 2.5% interest for the quarter.\n",
    "*   Any surplus can be invested at a 0.5% interest per quarter.\n",
    "\n",
    "**Questions:**\n",
    "\n",
    "a) Formulate a LP that maximizes the wealth of the company at the beginning of Q9.\n",
    "\n",
    "b) Use built-in LP solvers to get a solution.\n",
    "\n",
    "c) What is a good initial basic feasible point?\n",
    "\n",
    "d) Use the revised simplex method and see if your solution matches the one from built-in solver. Explain."
   ]
  },
  {
   "cell_type": "code",
   "execution_count": null,
   "id": "6cde6b13",
   "metadata": {},
   "outputs": [],
   "source": []
  }
 ],
 "metadata": {
  "kernelspec": {
   "display_name": "ml",
   "language": "python",
   "name": "python3"
  },
  "language_info": {
   "codemirror_mode": {
    "name": "ipython",
    "version": 3
   },
   "file_extension": ".py",
   "mimetype": "text/x-python",
   "name": "python",
   "nbconvert_exporter": "python",
   "pygments_lexer": "ipython3",
   "version": "3.12.2"
  }
 },
 "nbformat": 4,
 "nbformat_minor": 5
}
