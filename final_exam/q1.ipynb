{
 "cells": [
  {
   "cell_type": "markdown",
   "id": "371a77a7",
   "metadata": {},
   "source": [
    "# Problem Statement\n",
    "\n",
    "## Q1. Linear Programming\n",
    "\n",
    "Your start-up will face the cash requirements shown in Table 1 in the next eight quarters (positive entries represent cash needs while negative entries represent cash surpluses). The company has three borrowing possibilities.\n",
    "\n",
    "**Table 1: Cash Flow (in Crores of INR)**\n",
    "\n",
    "| Q1  | Q2  | Q3  | Q4   | Q5   | Q6  | Q7  | Q8   |\n",
    "| --- | --- | --- | ---- | ---- | --- | --- | ---- |\n",
    "| 100 | 500 | 100 | -600 | -500 | 200 | 600 | -900 |\n",
    "\n",
    "**Borrowing Possibilities:**\n",
    "\n",
    "*   A 2-year loan available at the beginning of Q1, with a 1% interest per quarter.\n",
    "*   The other two borrowing opportunities are available at the beginning of every quarter:\n",
    "    *   A 6-month loan with a 1.8% interest per quarter.\n",
    "    *   A quarterly loan with a 2.5% interest for the quarter.\n",
    "*   Any surplus can be invested at a 0.5% interest per quarter.\n",
    "\n",
    "**Questions:**\n",
    "\n",
    "a) Formulate a LP that maximizes the wealth of the company at the beginning of Q9.\n",
    "\n",
    "b) Use built-in LP solvers to get a solution.\n",
    "\n",
    "c) What is a good initial basic feasible point?\n",
    "\n",
    "d) Use the revised simplex method and see if your solution matches the one from built-in solver. Explain."
   ]
  },
  {
   "cell_type": "markdown",
   "id": "6cde6b13",
   "metadata": {},
   "source": [
    "# My approach\n",
    "## Assumptions\n",
    "- <span style=\"color:blue\">We pay compound interest with the principal at the end of the loan term</span>\n",
    "- <span style=\"color:blue\">We cannot take a 6 month loan at the beginning of the 8th quarter as this will be repayed after the ninth quarter</span>\n",
    "- <spam style=\"color:red\">All the money saved from expenditure should be invested</span>"
   ]
  },
  {
   "cell_type": "markdown",
   "id": "84e2ac89",
   "metadata": {},
   "source": [
    "## Variables\n",
    "\n",
    "- $x_t$: Total money at the start of quarter $t$ after all loans have also been taken.  \n",
    "- $L$: Two-year loan available at the beginning of the first quarter\n",
    "- $i_t$: The amount invested in quarter $t$.\n",
    "- $j_t$: 6-month loan available at the beginning of each quarter $t$  \n",
    "- $k_t$: 4-month loan available at the beginning of each quarter $t$    \n",
    "- $c_t$: Cash flow in quarter $t$ provided in the table (Technically $c_t$ is not a decision variable as it's values are provided) \n",
    "- $r$: Final result (e.g., total return) to be maximized\n"
   ]
  },
  {
   "cell_type": "markdown",
   "id": "f2ac7c43",
   "metadata": {},
   "source": [
    "## Constraints\n",
    "\n",
    "### General constraints\n",
    "\n",
    "- $x_t \\geq 0$ , $i_t \\geq0$,$x_t>=i_t$,  $x_t-i_t \\geq c_t$,  $j_t \\geq 0$, $k_t \\geq 0$,  $L \\geq 0$\n",
    "\n",
    "All $c_t$ values must match the given values\n",
    "\n",
    "\n",
    "### Quarter 1 constraints\n",
    "- $x_1 = L + j_1 + k_1 $\n",
    "- $x_2 = x_1 - c_1 + 0.005 \\cdot (i_1) - 1.025 \\cdot k_1$\n",
    "\n",
    "*(Note: Expressions will change if banks demand that previous loans be repaid before new loans etc.)*\n",
    "\n",
    "### General constraints (for $t = 2$ to $7$)\n",
    "- $x_{t+1} = x_t - c_t  +0.005 \\cdot i_t - 1.025 \\cdot k_t - (1+0.018)^2 \\cdot j_{t-1} + j_{t+1} + k_{t+1}$\n",
    "\n",
    "### Final quarter constraints\n",
    "- $j_8 = 0$ No 6 month loan in final quarter \n",
    "### Objective\n",
    "- $r = x_9 - (1+0.01)^8 \\cdot L$  \n",
    "  *(Maximize $r$, the net return after repaying the two-year loan) from the amount at the start of quarter 9*\n"
   ]
  },
  {
   "cell_type": "code",
   "execution_count": null,
   "id": "82e3b2d9",
   "metadata": {},
   "outputs": [],
   "source": []
  }
 ],
 "metadata": {
  "kernelspec": {
   "display_name": "ml",
   "language": "python",
   "name": "python3"
  },
  "language_info": {
   "codemirror_mode": {
    "name": "ipython",
    "version": 3
   },
   "file_extension": ".py",
   "mimetype": "text/x-python",
   "name": "python",
   "nbconvert_exporter": "python",
   "pygments_lexer": "ipython3",
   "version": "3.12.2"
  }
 },
 "nbformat": 4,
 "nbformat_minor": 5
}
