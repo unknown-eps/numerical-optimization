{
 "cells": [
  {
   "cell_type": "code",
   "execution_count": 1,
   "id": "249fdc5a",
   "metadata": {},
   "outputs": [],
   "source": [
    "import numpy as np\n",
    "import matplotlib.pyplot as plt"
   ]
  },
  {
   "cell_type": "code",
   "execution_count": 2,
   "id": "d49a810f",
   "metadata": {},
   "outputs": [],
   "source": [
    "def rosenbrock(x):\n",
    "    '''\n",
    "    x is a numpy array of shape (2,)\n",
    "    '''\n",
    "    return (1-x[0])**2 + 100*(x[1] - x[0]**2)**2"
   ]
  },
  {
   "cell_type": "code",
   "execution_count": 3,
   "id": "559118d8",
   "metadata": {},
   "outputs": [],
   "source": [
    "def get_new_point(x_cur,sigma,exploration_threshold=0.1):\n",
    "    \"\"\"Generate a new point based on the current point and a Gaussian distribution.\"\"\"\n",
    "    while True:\n",
    "        x_new = np.random.normal(x_cur, sigma)\n",
    "        if rosenbrock(x_new) < rosenbrock(x_cur):\n",
    "            return x_new\n",
    "        elif np.random.uniform(0, 1) < exploration_threshold*rosenbrock(x_cur)/rosenbrock(x_new):\n",
    "            return x_new"
   ]
  },
  {
   "cell_type": "code",
   "execution_count": 4,
   "id": "2965931c",
   "metadata": {},
   "outputs": [],
   "source": [
    "def bayesian_opt(x0,max_iter=5000,sigma=1,threshold=1e-4,exploration_threshold=0.1):\n",
    "    x_cur = x0\n",
    "    path = [x_cur]\n",
    "    for i in range(max_iter):\n",
    "        x_new = get_new_point(x_cur, sigma, exploration_threshold)\n",
    "        path.append(x_new)\n",
    "        if (rosenbrock(x_new)<threshold):\n",
    "            break\n",
    "        x_cur = x_new\n",
    "    return np.array(path)"
   ]
  },
  {
   "cell_type": "code",
   "execution_count": 5,
   "id": "9e6bd255",
   "metadata": {},
   "outputs": [],
   "source": [
    "x0 = np.zeros(2)"
   ]
  },
  {
   "cell_type": "code",
   "execution_count": 6,
   "id": "fee94b74",
   "metadata": {},
   "outputs": [],
   "source": [
    "np.random.seed(0)\n",
    "path = bayesian_opt(x0, max_iter=5000, sigma=0.3, exploration_threshold=0.1)"
   ]
  },
  {
   "cell_type": "code",
   "execution_count": 7,
   "id": "966c6ea2",
   "metadata": {},
   "outputs": [
    {
     "data": {
      "text/plain": [
       "15"
      ]
     },
     "execution_count": 7,
     "metadata": {},
     "output_type": "execute_result"
    }
   ],
   "source": [
    "len(path)"
   ]
  }
 ],
 "metadata": {
  "kernelspec": {
   "display_name": "ml",
   "language": "python",
   "name": "python3"
  },
  "language_info": {
   "codemirror_mode": {
    "name": "ipython",
    "version": 3
   },
   "file_extension": ".py",
   "mimetype": "text/x-python",
   "name": "python",
   "nbconvert_exporter": "python",
   "pygments_lexer": "ipython3",
   "version": "3.12.2"
  }
 },
 "nbformat": 4,
 "nbformat_minor": 5
}
